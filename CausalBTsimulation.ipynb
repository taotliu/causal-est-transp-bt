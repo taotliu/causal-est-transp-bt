{
 "cells": [
  {
   "cell_type": "code",
   "execution_count": 249,
   "metadata": {},
   "outputs": [
    {
     "data": {
      "text/html": [
       "'Tue Oct 12 12:00:56 2021'"
      ],
      "text/latex": [
       "'Tue Oct 12 12:00:56 2021'"
      ],
      "text/markdown": [
       "'Tue Oct 12 12:00:56 2021'"
      ],
      "text/plain": [
       "[1] \"Tue Oct 12 12:00:56 2021\""
      ]
     },
     "metadata": {},
     "output_type": "display_data"
    }
   ],
   "source": [
    "date()\n",
    "library(pacman)\n",
    "p_load(\"ggplot2\", \"MASS\", \"data.table\", \"tidyverse\", \"rmarkdown\")\n",
    "rm(list=ls())"
   ]
  },
  {
   "cell_type": "markdown",
   "metadata": {},
   "source": [
    "## Simulations parameters "
   ]
  },
  {
   "cell_type": "code",
   "execution_count": 250,
   "metadata": {},
   "outputs": [],
   "source": [
    "## X distribution parameters: x ~ N(0, Sigma)\n",
    "x_mu = rep(0, 6)\n",
    "x_sigma = matrix(0, nrow = 6, ncol = 6)\n",
    "diag(x_sigma)=1\n",
    "x_sigma[1:3, 1:3] = matrix(c(1, 0.3, 0.5, \n",
    "                             0.3, 1, 0.1, \n",
    "                             0.5, 0.1, 1))\n",
    "\n",
    "\n",
    "## treatment PS model parameters \n",
    "alpha=c(0, 0.1, 0.1, 0.1, 0.1, 0.1, 0.1)\n",
    "\n",
    "\n",
    "## potential outcomes model parameters\n",
    "# beta = ... \n",
    "\n",
    "\n",
    "## simulation parameters \n",
    "sim_n= 20   # sample size\n",
    "sim_N= 50   # experiment\n"
   ]
  },
  {
   "cell_type": "code",
   "execution_count": 251,
   "metadata": {},
   "outputs": [
    {
     "data": {
      "text/html": [
       "<strong>$par</strong> = <dl>\n",
       "\t<dt>$x_mu</dt>\n",
       "\t\t<dd><style>\n",
       ".list-inline {list-style: none; margin:0; padding: 0}\n",
       ".list-inline>li {display: inline-block}\n",
       ".list-inline>li:not(:last-child)::after {content: \"\\00b7\"; padding: 0 .5ex}\n",
       "</style>\n",
       "<ol class=list-inline><li>0</li><li>0</li><li>0</li><li>0</li><li>0</li><li>0</li></ol>\n",
       "</dd>\n",
       "\t<dt>$x_sigma</dt>\n",
       "\t\t<dd><table>\n",
       "<caption>A matrix: 6 × 6 of type dbl</caption>\n",
       "<tbody>\n",
       "\t<tr><td>1.0</td><td>0.3</td><td>0.5</td><td>0</td><td>0</td><td>0</td></tr>\n",
       "\t<tr><td>0.3</td><td>1.0</td><td>0.1</td><td>0</td><td>0</td><td>0</td></tr>\n",
       "\t<tr><td>0.5</td><td>0.1</td><td>1.0</td><td>0</td><td>0</td><td>0</td></tr>\n",
       "\t<tr><td>0.0</td><td>0.0</td><td>0.0</td><td>1</td><td>0</td><td>0</td></tr>\n",
       "\t<tr><td>0.0</td><td>0.0</td><td>0.0</td><td>0</td><td>1</td><td>0</td></tr>\n",
       "\t<tr><td>0.0</td><td>0.0</td><td>0.0</td><td>0</td><td>0</td><td>1</td></tr>\n",
       "</tbody>\n",
       "</table>\n",
       "</dd>\n",
       "\t<dt>$n</dt>\n",
       "\t\t<dd>20</dd>\n",
       "\t<dt>$N</dt>\n",
       "\t\t<dd>50</dd>\n",
       "\t<dt>$alpha</dt>\n",
       "\t\t<dd><style>\n",
       ".list-inline {list-style: none; margin:0; padding: 0}\n",
       ".list-inline>li {display: inline-block}\n",
       ".list-inline>li:not(:last-child)::after {content: \"\\00b7\"; padding: 0 .5ex}\n",
       "</style>\n",
       "<ol class=list-inline><li>0</li><li>0.1</li><li>0.1</li><li>0.1</li><li>0.1</li><li>0.1</li><li>0.1</li></ol>\n",
       "</dd>\n",
       "</dl>\n"
      ],
      "text/latex": [
       "\\textbf{\\$par} = \\begin{description}\n",
       "\\item[\\$x\\_mu] \\begin{enumerate*}\n",
       "\\item 0\n",
       "\\item 0\n",
       "\\item 0\n",
       "\\item 0\n",
       "\\item 0\n",
       "\\item 0\n",
       "\\end{enumerate*}\n",
       "\n",
       "\\item[\\$x\\_sigma] A matrix: 6 × 6 of type dbl\n",
       "\\begin{tabular}{llllll}\n",
       "\t 1.0 & 0.3 & 0.5 & 0 & 0 & 0\\\\\n",
       "\t 0.3 & 1.0 & 0.1 & 0 & 0 & 0\\\\\n",
       "\t 0.5 & 0.1 & 1.0 & 0 & 0 & 0\\\\\n",
       "\t 0.0 & 0.0 & 0.0 & 1 & 0 & 0\\\\\n",
       "\t 0.0 & 0.0 & 0.0 & 0 & 1 & 0\\\\\n",
       "\t 0.0 & 0.0 & 0.0 & 0 & 0 & 1\\\\\n",
       "\\end{tabular}\n",
       "\n",
       "\\item[\\$n] 20\n",
       "\\item[\\$N] 50\n",
       "\\item[\\$alpha] \\begin{enumerate*}\n",
       "\\item 0\n",
       "\\item 0.1\n",
       "\\item 0.1\n",
       "\\item 0.1\n",
       "\\item 0.1\n",
       "\\item 0.1\n",
       "\\item 0.1\n",
       "\\end{enumerate*}\n",
       "\n",
       "\\end{description}\n"
      ],
      "text/markdown": [
       "**$par** = $x_mu\n",
       ":   1. 0\n",
       "2. 0\n",
       "3. 0\n",
       "4. 0\n",
       "5. 0\n",
       "6. 0\n",
       "\n",
       "\n",
       "\n",
       "$x_sigma\n",
       ":   \n",
       "A matrix: 6 × 6 of type dbl\n",
       "\n",
       "| 1.0 | 0.3 | 0.5 | 0 | 0 | 0 |\n",
       "| 0.3 | 1.0 | 0.1 | 0 | 0 | 0 |\n",
       "| 0.5 | 0.1 | 1.0 | 0 | 0 | 0 |\n",
       "| 0.0 | 0.0 | 0.0 | 1 | 0 | 0 |\n",
       "| 0.0 | 0.0 | 0.0 | 0 | 1 | 0 |\n",
       "| 0.0 | 0.0 | 0.0 | 0 | 0 | 1 |\n",
       "\n",
       "\n",
       "$n\n",
       ":   20\n",
       "$N\n",
       ":   50\n",
       "$alpha\n",
       ":   1. 0\n",
       "2. 0.1\n",
       "3. 0.1\n",
       "4. 0.1\n",
       "5. 0.1\n",
       "6. 0.1\n",
       "7. 0.1\n",
       "\n",
       "\n",
       "\n",
       "\n",
       "\n"
      ],
      "text/plain": [
       "$par\n",
       "$par$x_mu\n",
       "[1] 0 0 0 0 0 0\n",
       "\n",
       "$par$x_sigma\n",
       "     [,1] [,2] [,3] [,4] [,5] [,6]\n",
       "[1,]  1.0  0.3  0.5    0    0    0\n",
       "[2,]  0.3  1.0  0.1    0    0    0\n",
       "[3,]  0.5  0.1  1.0    0    0    0\n",
       "[4,]  0.0  0.0  0.0    1    0    0\n",
       "[5,]  0.0  0.0  0.0    0    1    0\n",
       "[6,]  0.0  0.0  0.0    0    0    1\n",
       "\n",
       "$par$n\n",
       "[1] 20\n",
       "\n",
       "$par$N\n",
       "[1] 50\n",
       "\n",
       "$par$alpha\n",
       "[1] 0.0 0.1 0.1 0.1 0.1 0.1 0.1\n",
       "\n"
      ]
     },
     "metadata": {},
     "output_type": "display_data"
    }
   ],
   "source": [
    "## use a list to store sim parameters (and data to be added later)\n",
    "sim_all= list(par=list(x_mu=x_mu, x_sigma=x_sigma, n = sim_n, N=sim_N,\n",
    "                       alpha=alpha))\n",
    "sim_all"
   ]
  },
  {
   "cell_type": "code",
   "execution_count": null,
   "metadata": {},
   "outputs": [],
   "source": []
  },
  {
   "cell_type": "code",
   "execution_count": 252,
   "metadata": {},
   "outputs": [],
   "source": [
    "## data simulation function \n",
    "\n",
    "simDataGen=function(simPar, seed=100){    \n",
    "    set.seed(seed)\n",
    "    \n",
    "    ## x = (v1, v2, ...)\n",
    "    x = mvrnorm(simPar$n, simPar$x_mu, simPar$x_sigma)\n",
    "    \n",
    "    ## propensity score and treatmant A\n",
    "    ps = 1/(1+ exp( -(alpha[1] + x %*% simPar$alpha[-1]) ) ) \n",
    "    A = rbinom(simPar$n, size = 1, prob = ps)\n",
    "    \n",
    "    ## potential outcomes and observed Y\n",
    "    Y1 = rnorm(simPar$n, 1)    ### model to be added\n",
    "    Y0 = rnorm(simPar$n, 0)    ### model to be added\n",
    "    Y = A*Y1 + (1-A)*Y0\n",
    "    \n",
    "    data.out = data.frame(x, ps, A, Y1, Y0, Y)\n",
    "    data.out\n",
    "}"
   ]
  },
  {
   "cell_type": "code",
   "execution_count": 253,
   "metadata": {},
   "outputs": [
    {
     "data": {
      "text/html": [
       "<table>\n",
       "<caption>A data.frame: 6 × 11</caption>\n",
       "<thead>\n",
       "\t<tr><th></th><th scope=col>X1</th><th scope=col>X2</th><th scope=col>X3</th><th scope=col>X4</th><th scope=col>X5</th><th scope=col>X6</th><th scope=col>ps</th><th scope=col>A</th><th scope=col>Y1</th><th scope=col>Y0</th><th scope=col>Y</th></tr>\n",
       "\t<tr><th></th><th scope=col>&lt;dbl&gt;</th><th scope=col>&lt;dbl&gt;</th><th scope=col>&lt;dbl&gt;</th><th scope=col>&lt;dbl&gt;</th><th scope=col>&lt;dbl&gt;</th><th scope=col>&lt;dbl&gt;</th><th scope=col>&lt;dbl&gt;</th><th scope=col>&lt;int&gt;</th><th scope=col>&lt;dbl&gt;</th><th scope=col>&lt;dbl&gt;</th><th scope=col>&lt;dbl&gt;</th></tr>\n",
       "</thead>\n",
       "<tbody>\n",
       "\t<tr><th scope=row>1</th><td> 0.3427055</td><td>-0.40396980</td><td> 0.9565807</td><td>-0.26199577</td><td>-0.1016292</td><td>-0.4380900</td><td>0.5023400</td><td>1</td><td>0.5822056</td><td> 1.03468645</td><td> 0.58220557</td></tr>\n",
       "\t<tr><th scope=row>2</th><td> 0.5548995</td><td>-0.29587718</td><td>-0.6959592</td><td>-0.06884403</td><td> 1.4032035</td><td> 0.7640606</td><td>0.5414418</td><td>0</td><td>0.1496192</td><td> 1.65350323</td><td> 1.65350323</td></tr>\n",
       "\t<tr><th scope=row>3</th><td>-0.2714682</td><td> 1.24024592</td><td>-0.3875581</td><td>-0.37888356</td><td>-1.7767756</td><td> 0.2619613</td><td>0.4672351</td><td>1</td><td>1.6890462</td><td>-0.01794682</td><td> 1.68904619</td></tr>\n",
       "\t<tr><th scope=row>4</th><td>-0.5072614</td><td> 0.94926439</td><td>-1.9624694</td><td> 2.58195893</td><td> 0.6228674</td><td> 0.7734046</td><td>0.5611367</td><td>0</td><td>0.5398038</td><td>-0.02420332</td><td>-0.02420332</td></tr>\n",
       "\t<tr><th scope=row>5</th><td>-0.7638588</td><td>-0.36072654</td><td> 0.8600943</td><td> 0.12983414</td><td>-0.5222834</td><td>-0.8143791</td><td>0.4632832</td><td>0</td><td>2.3481844</td><td> 0.25024690</td><td> 0.25024690</td></tr>\n",
       "\t<tr><th scope=row>6</th><td>-0.4862144</td><td> 0.03790659</td><td>-0.1539346</td><td>-0.71302498</td><td> 1.3222310</td><td>-0.4384506</td><td>0.4892145</td><td>1</td><td>1.4430714</td><td>-0.33712454</td><td> 1.44307138</td></tr>\n",
       "</tbody>\n",
       "</table>\n"
      ],
      "text/latex": [
       "A data.frame: 6 × 11\n",
       "\\begin{tabular}{r|lllllllllll}\n",
       "  & X1 & X2 & X3 & X4 & X5 & X6 & ps & A & Y1 & Y0 & Y\\\\\n",
       "  & <dbl> & <dbl> & <dbl> & <dbl> & <dbl> & <dbl> & <dbl> & <int> & <dbl> & <dbl> & <dbl>\\\\\n",
       "\\hline\n",
       "\t1 &  0.3427055 & -0.40396980 &  0.9565807 & -0.26199577 & -0.1016292 & -0.4380900 & 0.5023400 & 1 & 0.5822056 &  1.03468645 &  0.58220557\\\\\n",
       "\t2 &  0.5548995 & -0.29587718 & -0.6959592 & -0.06884403 &  1.4032035 &  0.7640606 & 0.5414418 & 0 & 0.1496192 &  1.65350323 &  1.65350323\\\\\n",
       "\t3 & -0.2714682 &  1.24024592 & -0.3875581 & -0.37888356 & -1.7767756 &  0.2619613 & 0.4672351 & 1 & 1.6890462 & -0.01794682 &  1.68904619\\\\\n",
       "\t4 & -0.5072614 &  0.94926439 & -1.9624694 &  2.58195893 &  0.6228674 &  0.7734046 & 0.5611367 & 0 & 0.5398038 & -0.02420332 & -0.02420332\\\\\n",
       "\t5 & -0.7638588 & -0.36072654 &  0.8600943 &  0.12983414 & -0.5222834 & -0.8143791 & 0.4632832 & 0 & 2.3481844 &  0.25024690 &  0.25024690\\\\\n",
       "\t6 & -0.4862144 &  0.03790659 & -0.1539346 & -0.71302498 &  1.3222310 & -0.4384506 & 0.4892145 & 1 & 1.4430714 & -0.33712454 &  1.44307138\\\\\n",
       "\\end{tabular}\n"
      ],
      "text/markdown": [
       "\n",
       "A data.frame: 6 × 11\n",
       "\n",
       "| <!--/--> | X1 &lt;dbl&gt; | X2 &lt;dbl&gt; | X3 &lt;dbl&gt; | X4 &lt;dbl&gt; | X5 &lt;dbl&gt; | X6 &lt;dbl&gt; | ps &lt;dbl&gt; | A &lt;int&gt; | Y1 &lt;dbl&gt; | Y0 &lt;dbl&gt; | Y &lt;dbl&gt; |\n",
       "|---|---|---|---|---|---|---|---|---|---|---|---|\n",
       "| 1 |  0.3427055 | -0.40396980 |  0.9565807 | -0.26199577 | -0.1016292 | -0.4380900 | 0.5023400 | 1 | 0.5822056 |  1.03468645 |  0.58220557 |\n",
       "| 2 |  0.5548995 | -0.29587718 | -0.6959592 | -0.06884403 |  1.4032035 |  0.7640606 | 0.5414418 | 0 | 0.1496192 |  1.65350323 |  1.65350323 |\n",
       "| 3 | -0.2714682 |  1.24024592 | -0.3875581 | -0.37888356 | -1.7767756 |  0.2619613 | 0.4672351 | 1 | 1.6890462 | -0.01794682 |  1.68904619 |\n",
       "| 4 | -0.5072614 |  0.94926439 | -1.9624694 |  2.58195893 |  0.6228674 |  0.7734046 | 0.5611367 | 0 | 0.5398038 | -0.02420332 | -0.02420332 |\n",
       "| 5 | -0.7638588 | -0.36072654 |  0.8600943 |  0.12983414 | -0.5222834 | -0.8143791 | 0.4632832 | 0 | 2.3481844 |  0.25024690 |  0.25024690 |\n",
       "| 6 | -0.4862144 |  0.03790659 | -0.1539346 | -0.71302498 |  1.3222310 | -0.4384506 | 0.4892145 | 1 | 1.4430714 | -0.33712454 |  1.44307138 |\n",
       "\n"
      ],
      "text/plain": [
       "  X1         X2          X3         X4          X5         X6         ps       \n",
       "1  0.3427055 -0.40396980  0.9565807 -0.26199577 -0.1016292 -0.4380900 0.5023400\n",
       "2  0.5548995 -0.29587718 -0.6959592 -0.06884403  1.4032035  0.7640606 0.5414418\n",
       "3 -0.2714682  1.24024592 -0.3875581 -0.37888356 -1.7767756  0.2619613 0.4672351\n",
       "4 -0.5072614  0.94926439 -1.9624694  2.58195893  0.6228674  0.7734046 0.5611367\n",
       "5 -0.7638588 -0.36072654  0.8600943  0.12983414 -0.5222834 -0.8143791 0.4632832\n",
       "6 -0.4862144  0.03790659 -0.1539346 -0.71302498  1.3222310 -0.4384506 0.4892145\n",
       "  A Y1        Y0          Y          \n",
       "1 1 0.5822056  1.03468645  0.58220557\n",
       "2 0 0.1496192  1.65350323  1.65350323\n",
       "3 1 1.6890462 -0.01794682  1.68904619\n",
       "4 0 0.5398038 -0.02420332 -0.02420332\n",
       "5 0 2.3481844  0.25024690  0.25024690\n",
       "6 1 1.4430714 -0.33712454  1.44307138"
      ]
     },
     "metadata": {},
     "output_type": "display_data"
    }
   ],
   "source": [
    "data.try = simDataGen(simPar = sim_all$par)\n",
    "data.try %>% head"
   ]
  },
  {
   "cell_type": "markdown",
   "metadata": {},
   "source": [
    "## Simulation: N experiments "
   ]
  },
  {
   "cell_type": "code",
   "execution_count": 254,
   "metadata": {},
   "outputs": [],
   "source": [
    "sim_all$data = lapply(1:rep(sim_all$par$N), simDataGen, simPar = sim_all$par)"
   ]
  },
  {
   "cell_type": "code",
   "execution_count": 255,
   "metadata": {},
   "outputs": [],
   "source": [
    "### don't run the following code when n and N are big. \n",
    "#str(sim_all)"
   ]
  },
  {
   "cell_type": "markdown",
   "metadata": {},
   "source": [
    "## Analysis "
   ]
  },
  {
   "cell_type": "markdown",
   "metadata": {},
   "source": [
    "### 1. Naive \"As-Treated\" estimate"
   ]
  },
  {
   "cell_type": "code",
   "execution_count": 256,
   "metadata": {},
   "outputs": [],
   "source": [
    "at_effect = function(data){\n",
    "    tmp = lm(Y~A, data=data) \n",
    "    cbind(coef = coef(tmp), confint(tmp) )[2,] \n",
    "}"
   ]
  },
  {
   "cell_type": "code",
   "execution_count": 274,
   "metadata": {},
   "outputs": [
    {
     "data": {
      "text/html": [
       "<table>\n",
       "<caption>A matrix: 3 × 50 of type dbl</caption>\n",
       "<tbody>\n",
       "\t<tr><th scope=row>coef</th><td> 0.3305852</td><td> 0.5431513</td><td> 0.2493136</td><td>1.0624457</td><td>1.3530426</td><td>0.81990092</td><td>0.900677</td><td> 0.8661019</td><td> 0.02594331</td><td>1.2802970</td><td>⋯</td><td>0.9550746</td><td>1.1706955</td><td>1.4891464</td><td>1.1351375</td><td> 0.8732731</td><td>1.18549433</td><td> 0.08720658</td><td> 0.2920746</td><td>1.3992894</td><td>1.0894040</td></tr>\n",
       "\t<tr><th scope=row>2.5 %</th><td>-0.6874423</td><td>-0.2795084</td><td>-0.9058487</td><td>0.1220792</td><td>0.5974123</td><td>0.01652559</td><td>0.071519</td><td>-0.2448207</td><td>-0.81677491</td><td>0.5099639</td><td>⋯</td><td>0.1942771</td><td>0.3049077</td><td>0.6007543</td><td>0.3348397</td><td>-0.2820956</td><td>0.01992841</td><td>-0.80863145</td><td>-0.8044951</td><td>0.4065494</td><td>0.3681553</td></tr>\n",
       "\t<tr><th scope=row>97.5 %</th><td> 1.3486127</td><td> 1.3658109</td><td> 1.4044760</td><td>2.0028122</td><td>2.1086729</td><td>1.62327625</td><td>1.729835</td><td> 1.9770246</td><td> 0.86866152</td><td>2.0506301</td><td>⋯</td><td>1.7158721</td><td>2.0364832</td><td>2.3775385</td><td>1.9354353</td><td> 2.0286419</td><td>2.35106025</td><td> 0.98304460</td><td> 1.3886443</td><td>2.3920295</td><td>1.8106527</td></tr>\n",
       "</tbody>\n",
       "</table>\n"
      ],
      "text/latex": [
       "A matrix: 3 × 50 of type dbl\n",
       "\\begin{tabular}{r|lllllllllllllllllllll}\n",
       "\tcoef &  0.3305852 &  0.5431513 &  0.2493136 & 1.0624457 & 1.3530426 & 0.81990092 & 0.900677 &  0.8661019 &  0.02594331 & 1.2802970 & ⋯ & 0.9550746 & 1.1706955 & 1.4891464 & 1.1351375 &  0.8732731 & 1.18549433 &  0.08720658 &  0.2920746 & 1.3992894 & 1.0894040\\\\\n",
       "\t2.5 \\% & -0.6874423 & -0.2795084 & -0.9058487 & 0.1220792 & 0.5974123 & 0.01652559 & 0.071519 & -0.2448207 & -0.81677491 & 0.5099639 & ⋯ & 0.1942771 & 0.3049077 & 0.6007543 & 0.3348397 & -0.2820956 & 0.01992841 & -0.80863145 & -0.8044951 & 0.4065494 & 0.3681553\\\\\n",
       "\t97.5 \\% &  1.3486127 &  1.3658109 &  1.4044760 & 2.0028122 & 2.1086729 & 1.62327625 & 1.729835 &  1.9770246 &  0.86866152 & 2.0506301 & ⋯ & 1.7158721 & 2.0364832 & 2.3775385 & 1.9354353 &  2.0286419 & 2.35106025 &  0.98304460 &  1.3886443 & 2.3920295 & 1.8106527\\\\\n",
       "\\end{tabular}\n"
      ],
      "text/markdown": [
       "\n",
       "A matrix: 3 × 50 of type dbl\n",
       "\n",
       "| coef |  0.3305852 |  0.5431513 |  0.2493136 | 1.0624457 | 1.3530426 | 0.81990092 | 0.900677 |  0.8661019 |  0.02594331 | 1.2802970 | ⋯ | 0.9550746 | 1.1706955 | 1.4891464 | 1.1351375 |  0.8732731 | 1.18549433 |  0.08720658 |  0.2920746 | 1.3992894 | 1.0894040 |\n",
       "| 2.5 % | -0.6874423 | -0.2795084 | -0.9058487 | 0.1220792 | 0.5974123 | 0.01652559 | 0.071519 | -0.2448207 | -0.81677491 | 0.5099639 | ⋯ | 0.1942771 | 0.3049077 | 0.6007543 | 0.3348397 | -0.2820956 | 0.01992841 | -0.80863145 | -0.8044951 | 0.4065494 | 0.3681553 |\n",
       "| 97.5 % |  1.3486127 |  1.3658109 |  1.4044760 | 2.0028122 | 2.1086729 | 1.62327625 | 1.729835 |  1.9770246 |  0.86866152 | 2.0506301 | ⋯ | 1.7158721 | 2.0364832 | 2.3775385 | 1.9354353 |  2.0286419 | 2.35106025 |  0.98304460 |  1.3886443 | 2.3920295 | 1.8106527 |\n",
       "\n"
      ],
      "text/plain": [
       "       [,1]       [,2]       [,3]       [,4]      [,5]      [,6]       [,7]    \n",
       "coef    0.3305852  0.5431513  0.2493136 1.0624457 1.3530426 0.81990092 0.900677\n",
       "2.5 %  -0.6874423 -0.2795084 -0.9058487 0.1220792 0.5974123 0.01652559 0.071519\n",
       "97.5 %  1.3486127  1.3658109  1.4044760 2.0028122 2.1086729 1.62327625 1.729835\n",
       "       [,8]       [,9]        [,10]     [,11] [,12]     [,13]     [,14]    \n",
       "coef    0.8661019  0.02594331 1.2802970 ⋯     0.9550746 1.1706955 1.4891464\n",
       "2.5 %  -0.2448207 -0.81677491 0.5099639 ⋯     0.1942771 0.3049077 0.6007543\n",
       "97.5 %  1.9770246  0.86866152 2.0506301 ⋯     1.7158721 2.0364832 2.3775385\n",
       "       [,15]     [,16]      [,17]      [,18]       [,19]      [,20]    \n",
       "coef   1.1351375  0.8732731 1.18549433  0.08720658  0.2920746 1.3992894\n",
       "2.5 %  0.3348397 -0.2820956 0.01992841 -0.80863145 -0.8044951 0.4065494\n",
       "97.5 % 1.9354353  2.0286419 2.35106025  0.98304460  1.3886443 2.3920295\n",
       "       [,21]    \n",
       "coef   1.0894040\n",
       "2.5 %  0.3681553\n",
       "97.5 % 1.8106527"
      ]
     },
     "metadata": {},
     "output_type": "display_data"
    },
    {
     "data": {
      "text/plain": [
       "   Min. 1st Qu.  Median    Mean 3rd Qu.    Max. \n",
       "0.02594 0.65201 0.99357 0.99094 1.36536 1.79826 "
      ]
     },
     "metadata": {},
     "output_type": "display_data"
    },
    {
     "data": {
      "text/html": [
       "0.94"
      ],
      "text/latex": [
       "0.94"
      ],
      "text/markdown": [
       "0.94"
      ],
      "text/plain": [
       "[1] 0.94"
      ]
     },
     "metadata": {},
     "output_type": "display_data"
    },
    {
     "data": {
      "image/png": "[encoded data removed]",
      "text/plain": [
       "Plot with title “Histogram of at_summ[1, ]”"
      ]
     },
     "metadata": {
      "image/png": {
       "height": 420,
       "width": 420
      }
     },
     "output_type": "display_data"
    }
   ],
   "source": [
    "at_summ = sapply(sim_all$data, at_effect)\n",
    "at_summ\n",
    "\n",
    "hist(at_summ[1, ])\n",
    "## mean, bias, etc\n",
    "summary( at_summ[1, ])\n",
    "## coverage probability\n",
    "mean( (at_summ[2,]<1) * (at_summ[3,]>1) )"
   ]
  },
  {
   "cell_type": "code",
   "execution_count": 258,
   "metadata": {},
   "outputs": [],
   "source": [
    "### 2. IPW estimate \n",
    "# there should be a package for IPW analysis "
   ]
  },
  {
   "cell_type": "code",
   "execution_count": 259,
   "metadata": {},
   "outputs": [],
   "source": [
    "### 3. Bootstrap estiamte "
   ]
  },
  {
   "cell_type": "code",
   "execution_count": 260,
   "metadata": {},
   "outputs": [],
   "source": [
    "### others methods. "
   ]
  },
  {
   "cell_type": "code",
   "execution_count": null,
   "metadata": {},
   "outputs": [],
   "source": []
  },
  {
   "cell_type": "code",
   "execution_count": null,
   "metadata": {},
   "outputs": [],
   "source": []
  },
  {
   "cell_type": "code",
   "execution_count": null,
   "metadata": {},
   "outputs": [],
   "source": []
  },
  {
   "cell_type": "code",
   "execution_count": 261,
   "metadata": {},
   "outputs": [],
   "source": [
    "convert_ipynb(input=\"CausalBTsimulation.ipynb\", output = xfun::with_ext(\"CausalBTsimulation.ipynb\", \"Rmd\"))"
   ]
  },
  {
   "cell_type": "code",
   "execution_count": 243,
   "metadata": {},
   "outputs": [],
   "source": []
  },
  {
   "cell_type": "code",
   "execution_count": null,
   "metadata": {},
   "outputs": [],
   "source": []
  }
 ],
 "metadata": {
  "kernelspec": {
   "display_name": "R",
   "language": "R",
   "name": "ir"
  },
  "language_info": {
   "codemirror_mode": "r",
   "file_extension": ".r",
   "mimetype": "text/x-r-source",
   "name": "R",
   "pygments_lexer": "r",
   "version": "4.0.4"
  }
 },
 "nbformat": 4,
 "nbformat_minor": 4
}
